{
  "nbformat": 4,
  "nbformat_minor": 0,
  "metadata": {
    "colab": {
      "provenance": []
    },
    "kernelspec": {
      "name": "python3",
      "display_name": "Python 3"
    },
    "language_info": {
      "name": "python"
    }
  },
  "cells": [
    {
      "cell_type": "code",
      "source": [
        "pip install MRJob"
      ],
      "metadata": {
        "colab": {
          "base_uri": "https://localhost:8080/"
        },
        "id": "e6tDSTiIucfc",
        "outputId": "fafaec35-7077-4c7f-89b8-0c5d6b3f774e"
      },
      "execution_count": 2,
      "outputs": [
        {
          "output_type": "stream",
          "name": "stdout",
          "text": [
            "Collecting MRJob\n",
            "  Downloading mrjob-0.7.4-py2.py3-none-any.whl (439 kB)\n",
            "\u001b[2K     \u001b[90m━━━━━━━━━━━━━━━━━━━━━━━━━━━━━━━━━━━━━━━\u001b[0m \u001b[32m439.6/439.6 kB\u001b[0m \u001b[31m7.6 MB/s\u001b[0m eta \u001b[36m0:00:00\u001b[0m\n",
            "\u001b[?25hRequirement already satisfied: PyYAML>=3.10 in /usr/local/lib/python3.10/dist-packages (from MRJob) (6.0.1)\n",
            "Installing collected packages: MRJob\n",
            "Successfully installed MRJob-0.7.4\n"
          ]
        }
      ]
    },
    {
      "cell_type": "code",
      "execution_count": null,
      "metadata": {
        "id": "aXW1Tu73uY3h"
      },
      "outputs": [],
      "source": [
        "from mrjob.job import MRJob\n",
        "import re\n",
        "\n",
        "TEXT_RE = re.compile(r\"[\\w]+\")\n",
        "\n",
        "class CountWords(MRJob):\n",
        "\n",
        "    def mapper(self, _, line):\n",
        "        lines = TEXT_RE.findall(line)\n",
        "        for text in lines:\n",
        "            yield text.lower(), 1\n",
        "\n",
        "\n",
        "    def combiner(self, text, counts):\n",
        "        yield text, sum(counts)\n",
        "\n",
        "    def reducer(self, text, counts):\n",
        "        yield text, sum(counts)\n",
        "\n",
        "if __name__ == '__main__':\n",
        "    CountWords.run()"
      ]
    },
    {
      "cell_type": "code",
      "source": [],
      "metadata": {
        "id": "ajoONolxurzF"
      },
      "execution_count": null,
      "outputs": []
    }
  ]
}