{
  "nbformat": 4,
  "nbformat_minor": 0,
  "metadata": {
    "colab": {
      "provenance": []
    },
    "kernelspec": {
      "name": "python3",
      "display_name": "Python 3"
    },
    "language_info": {
      "name": "python"
    }
  },
  "cells": [
    {
      "cell_type": "code",
      "execution_count": 2,
      "metadata": {
        "colab": {
          "base_uri": "https://localhost:8080/"
        },
        "id": "jY-ebKPavejB",
        "outputId": "899a57b5-722e-4c4e-c3b1-c5c75bb5cc3c"
      },
      "outputs": [
        {
          "output_type": "stream",
          "name": "stdout",
          "text": [
            "Collecting MRJob\n",
            "  Downloading mrjob-0.7.4-py2.py3-none-any.whl (439 kB)\n",
            "\u001b[2K     \u001b[90m━━━━━━━━━━━━━━━━━━━━━━━━━━━━━━━━━━━━━━━\u001b[0m \u001b[32m439.6/439.6 kB\u001b[0m \u001b[31m6.6 MB/s\u001b[0m eta \u001b[36m0:00:00\u001b[0m\n",
            "\u001b[?25hRequirement already satisfied: PyYAML>=3.10 in /usr/local/lib/python3.10/dist-packages (from MRJob) (6.0.1)\n",
            "Installing collected packages: MRJob\n",
            "Successfully installed MRJob-0.7.4\n"
          ]
        }
      ],
      "source": [
        "pip install MRJob"
      ]
    },
    {
      "cell_type": "code",
      "source": [
        "from mrjob.job import MRJob\n",
        "import re\n",
        "\n",
        "TEXT_RE = re.compile(r\"[\\w]+\")\n",
        "\n",
        "class Task3(MRJob):\n",
        "\n",
        "    def mapper (self, _, line):\n",
        "     text = TEXT_RE.findall(line)\n",
        "\n",
        "     for text1, text2 in zip(text, text[1:]):\n",
        "        result = f\"{text1}-{text2}\"\n",
        "        yield (result, 1)\n",
        "\n",
        "    def combiner(self, result, counts):\n",
        "       yield (result, sum(counts))\n",
        "\n",
        "    def reducer(self, result, counts):\n",
        "       yield(result, sum(counts))\n",
        "\n",
        "if __name__ == '__main__':\n",
        "   Task3.run()"
      ],
      "metadata": {
        "id": "d2fkyFhpvfKx"
      },
      "execution_count": null,
      "outputs": []
    }
  ]
}