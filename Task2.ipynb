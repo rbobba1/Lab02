{
  "nbformat": 4,
  "nbformat_minor": 0,
  "metadata": {
    "colab": {
      "provenance": []
    },
    "kernelspec": {
      "name": "python3",
      "display_name": "Python 3"
    },
    "language_info": {
      "name": "python"
    }
  },
  "cells": [
    {
      "cell_type": "code",
      "source": [
        "pip install MRJob"
      ],
      "metadata": {
        "colab": {
          "base_uri": "https://localhost:8080/"
        },
        "id": "3x_C1ZM_vRZ1",
        "outputId": "278d8da6-68a0-412a-f5cc-b3a22ef359c8"
      },
      "execution_count": 4,
      "outputs": [
        {
          "output_type": "stream",
          "name": "stdout",
          "text": [
            "Collecting MRJob\n",
            "  Downloading mrjob-0.7.4-py2.py3-none-any.whl (439 kB)\n",
            "\u001b[2K     \u001b[90m━━━━━━━━━━━━━━━━━━━━━━━━━━━━━━━━━━━━━━━\u001b[0m \u001b[32m439.6/439.6 kB\u001b[0m \u001b[31m5.1 MB/s\u001b[0m eta \u001b[36m0:00:00\u001b[0m\n",
            "\u001b[?25hRequirement already satisfied: PyYAML>=3.10 in /usr/local/lib/python3.10/dist-packages (from MRJob) (6.0.1)\n",
            "Installing collected packages: MRJob\n",
            "Successfully installed MRJob-0.7.4\n"
          ]
        }
      ]
    },
    {
      "cell_type": "code",
      "execution_count": 3,
      "metadata": {
        "colab": {
          "base_uri": "https://localhost:8080/",
          "height": 71
        },
        "id": "QfWoafSUu7W7",
        "outputId": "b6c97b8a-3724-45b0-fc0e-9c0ebfe5c5d6"
      },
      "outputs": [
        {
          "output_type": "execute_result",
          "data": {
            "text/plain": [
              "\"\\nclass Task2 (MRJob):\\n    def mapper (self, _, line):\\n        lines = TEXT_RE.findall(line)\\n        for text in lines:\\n            if text in set_stopwords:\\n                continue\\n            yield text.lower(), 1\\n\\n    def combiner (self, text, counts):\\n        yield text, sum(counts)\\n\\n    def reducer (self, text, counts):\\n        yield text, sum(counts)\\n\\nif __name__ == '__main__':\\n    Task2.run()\""
            ],
            "application/vnd.google.colaboratory.intrinsic+json": {
              "type": "string"
            }
          },
          "metadata": {},
          "execution_count": 3
        }
      ],
      "source": [
        "from mrjob.job import MRJob\n",
        "from nltk.corpus import stopwords\n",
        "import re\n",
        "\n",
        "#TEXT_RE = re.compile(r\"[\\w]+\")\n",
        "#set_stopwords = set(stopwords.words('english'))\n",
        "class Task2 (MRJob):\n",
        "    def mapper (self, _, line):\n",
        "        lines = TEXT_RE.findall(line)\n",
        "        for text in lines:\n",
        "            if text in set_stopwords:\n",
        "                continue\n",
        "            yield text.lower(), 1\n",
        "\n",
        "    def combiner (self, text, counts):\n",
        "        yield text, sum(counts)\n",
        "\n",
        "    def reducer (self, text, counts):\n",
        "        yield text, sum(counts)\n",
        "\n",
        "if __name__ == '__main__':\n",
        "    Task2.run()"
      ]
    }
  ]
}